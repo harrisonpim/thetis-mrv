{
 "cells": [
  {
   "cell_type": "code",
   "execution_count": null,
   "id": "e1884a20-8562-48a0-baf5-cea8bb346e97",
   "metadata": {},
   "outputs": [],
   "source": [
    "import pandas as pd"
   ]
  },
  {
   "cell_type": "code",
   "execution_count": null,
   "id": "f9ea42cc-b3d3-4361-9eee-71d9ce622f37",
   "metadata": {},
   "outputs": [],
   "source": [
    "df = pd.read_excel(\"./data/raw/2018.xlsx\", header=2)\n",
    "df"
   ]
  },
  {
   "cell_type": "code",
   "execution_count": null,
   "id": "c49d9187-e9c9-4179-b371-f27f85706d01",
   "metadata": {},
   "outputs": [],
   "source": [
    "df.columns"
   ]
  },
  {
   "cell_type": "code",
   "execution_count": null,
   "id": "702570b1-4642-4235-aa78-e9166f1e6714",
   "metadata": {},
   "outputs": [],
   "source": [
    "df[\"Name\"].value_counts()"
   ]
  },
  {
   "cell_type": "code",
   "execution_count": null,
   "id": "1ae9efed-76c3-47f2-a0af-70318b4d19b6",
   "metadata": {},
   "outputs": [],
   "source": [
    "df[\"Ship type\"].value_counts()"
   ]
  },
  {
   "cell_type": "code",
   "execution_count": null,
   "id": "352ba3de-269d-4c71-95ad-dd4441d67277",
   "metadata": {},
   "outputs": [],
   "source": [
    "df[\"Port of Registry\"].value_counts()"
   ]
  },
  {
   "cell_type": "code",
   "execution_count": null,
   "id": "1d0e8107-d7de-4490-ba05-dd912a459ee6",
   "metadata": {},
   "outputs": [],
   "source": [
    "df[\"Port of Registry\"].astype(str).apply(str.lower).value_counts()"
   ]
  },
  {
   "cell_type": "code",
   "execution_count": null,
   "id": "1ee1df34-eb45-42da-a50e-bc543ee204cd",
   "metadata": {},
   "outputs": [],
   "source": []
  }
 ],
 "metadata": {
  "kernelspec": {
   "display_name": "Python 3",
   "language": "python",
   "name": "python3"
  },
  "language_info": {
   "codemirror_mode": {
    "name": "ipython",
    "version": 3
   },
   "file_extension": ".py",
   "mimetype": "text/x-python",
   "name": "python",
   "nbconvert_exporter": "python",
   "pygments_lexer": "ipython3",
   "version": "3.8.8"
  }
 },
 "nbformat": 4,
 "nbformat_minor": 5
}
