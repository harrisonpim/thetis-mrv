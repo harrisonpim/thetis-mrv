{
 "cells": [
  {
   "cell_type": "code",
   "execution_count": null,
   "id": "89e3d53b-8705-4376-b366-d78134f3d5f1",
   "metadata": {},
   "outputs": [],
   "source": [
    "from src import Entry"
   ]
  },
  {
   "cell_type": "code",
   "execution_count": null,
   "id": "375bc503-e742-4181-a660-3937bd2e79bb",
   "metadata": {},
   "outputs": [],
   "source": [
    "import pandas as pd"
   ]
  },
  {
   "cell_type": "code",
   "execution_count": null,
   "id": "67d9e9e0-23ce-4ff0-a315-e11a8e86b083",
   "metadata": {},
   "outputs": [],
   "source": [
    "df = pd.read_excel(\"./data/raw/2018.xlsx\", header=2)"
   ]
  },
  {
   "cell_type": "code",
   "execution_count": null,
   "id": "dd4b760d-d81e-4e46-915f-3181e12c0fbf",
   "metadata": {},
   "outputs": [],
   "source": [
    "type(df.loc[0])"
   ]
  },
  {
   "cell_type": "code",
   "execution_count": null,
   "id": "f59bb0e7-d000-44fd-ab05-126013655c99",
   "metadata": {},
   "outputs": [],
   "source": [
    "data = df.loc[8]"
   ]
  },
  {
   "cell_type": "code",
   "execution_count": null,
   "id": "bee30914-4738-4107-bf5c-249bbb7d19eb",
   "metadata": {},
   "outputs": [],
   "source": [
    "from typing import Optional"
   ]
  },
  {
   "cell_type": "code",
   "execution_count": null,
   "id": "7ed40182-1fba-46eb-a37b-ebb644deb749",
   "metadata": {},
   "outputs": [],
   "source": [
    "def parse_technical_efficiency(technical_efficiency) -> (Optional[str], Optional[float]):\n",
    "    if type(technical_efficiency) != str:\n",
    "        return None, None\n",
    "    if technical_efficiency.startswith(\"Not Applicable\"):\n",
    "        return None, None\n",
    "    else:\n",
    "        label, string_value = technical_efficiency.split(\" \", 1)\n",
    "        value = float(string_value[1:-11])\n",
    "        return label, value"
   ]
  },
  {
   "cell_type": "code",
   "execution_count": null,
   "id": "ec449863-5f03-4fc8-ad15-d5e47c945433",
   "metadata": {},
   "outputs": [],
   "source": [
    "from datetime import datetime"
   ]
  },
  {
   "cell_type": "code",
   "execution_count": null,
   "id": "99b18657-4847-4780-b275-774afa3c91d9",
   "metadata": {},
   "outputs": [],
   "source": [
    "def row_to_entry(row: pd.Series) -> Entry:\n",
    "    technicalEfficiencyLabel, technicalEfficiencyValue = parse_technical_efficiency(row[\"Technical efficiency\"])\n",
    "    return Entry(\n",
    "        shipImo=int(row[\"IMO Number\"]),\n",
    "        shipName=row[\"Name\"],\n",
    "        shipType=row[\"Ship type\"],\n",
    "        reportingPeriod=int(row[\"Reporting Period\"]),\n",
    "        technicalEfficiencyLabel=technicalEfficiencyLabel,\n",
    "        technicalEfficiencyValue=technicalEfficiencyValue,\n",
    "        portOfRegistry=row[\"Port of Registry\"],\n",
    "        shipHomePort=row[\"Home Port\"],\n",
    "        iceClassPolarCode=row[\"Ice Class\"],\n",
    "        docIssueDate=datetime.strptime(row[\"DoC issue date\"], \"%d/%m/%Y\"),\n",
    "        docExpiryDate=datetime.strptime(row[\"DoC expiry date\"], '%d/%m/%Y'),\n",
    "        verifierNumber=row[\"Verifier Number\"],\n",
    "        verifierName=row[\"Verifier Name\"],\n",
    "        verifierNab=row[\"Verifier NAB\"],\n",
    "        verifierAddress=row[\"Verifier Address\"],\n",
    "        verifierCity=row[\"Verifier City\"],\n",
    "        verifierAccreditationNumber=row[\"Verifier Accreditation number\"],\n",
    "        verifierCountry=row[\"Verifier Country\"],\n",
    "        monitoringMethodA=row[\"A\"]==\"Yes\",\n",
    "        monitoringMethodB=row[\"B\"]==\"Yes\",\n",
    "        monitoringMethodC=row[\"C\"]==\"Yes\",\n",
    "        monitoringMethodD=row[\"D\"]==\"Yes\",\n",
    "        totalFuelConsumption=row[\"Total fuel consumption [m tonnes]\"],\n",
    "        onLadenFuelConsumption=row[\"Fuel consumptions assigned to On laden [m tonnes]\"],\n",
    "        totalCo2Emissions=row[\"Total CO₂ emissions [m tonnes]\"],\n",
    "        betweenMSJurisdictionPortsCo2Emissions=row[\"CO₂ emissions from all voyages between ports under a MS jurisdiction [m tonnes]\"],\n",
    "        fromMSJurisdictionPortsCo2Emissions=row[\"CO₂ emissions from all voyages which departed from ports under a MS jurisdiction [m tonnes]\"],\n",
    "        toMSJurisdictionPortsCo2Emissions=row[\"CO₂ emissions from all voyages to ports under a MS jurisdiction [m tonnes]\"],\n",
    "        atBerthMSJurisdictionPortsCo2Emissions=row[\"CO₂ emissions which occurred within ports under a MS jurisdiction at berth [m tonnes]\"],\n",
    "        passengerCo2Emissions=row[\"CO₂ emissions assigned to Passenger transport [m tonnes]\"],\n",
    "        freightCo2Emissions=row[\"CO₂ emissions assigned to Freight transport [m tonnes]\"],\n",
    "        onLadenCo2Emissions=row[\"CO₂ emissions assigned to On laden [m tonnes]\"],\n",
    "        annualTotalTimeSpentAtSeaHours=row[\"Annual Total time spent at sea [hours]\"],\n",
    "        fuelConsumptionPerDistance=row[\"Annual average Fuel consumption per distance [kg / n mile]\"],\n",
    "        fuelConsumptionPerTransportWorkMass=row[\"Annual average Fuel consumption per transport work (mass) [g / m tonnes · n miles]\"],\n",
    "        fuelConsumptionPerTransportWorkVolume=row[\"Annual average Fuel consumption per transport work (volume) [g / m³ · n miles]\"],\n",
    "        fuelConsumptionPerTransportWorkDwt=row[\"Annual average Fuel consumption per transport work (dwt) [g / dwt carried · n miles]\"],\n",
    "        fuelConsumptionPerTransportWorkPax=row[\"Annual average Fuel consumption per transport work (pax) [g / pax · n miles]\"],\n",
    "        fuelConsumptionPerTransportWorkFreight=row[\"Annual average Fuel consumption per transport work (freight) [g / m tonnes · n miles]\"],\n",
    "        Co2EmissionsPerDistance=row[\"Annual average CO₂ emissions per distance [kg CO₂ / n mile]\"],\n",
    "        Co2EmissionsPerTransportWorkMass=row[\"Annual average CO₂ emissions per transport work (mass) [g CO₂ / m tonnes · n miles]\"],\n",
    "        Co2EmissionsPerTransportWorkVolume=row[\"Annual average CO₂ emissions per transport work (volume) [g CO₂ / m³ · n miles]\"],\n",
    "        Co2EmissionsPerTransportWorkDwt=row[\"Annual average CO₂ emissions per transport work (dwt) [g CO₂ / dwt carried · n miles]\"],\n",
    "        Co2EmissionsPerTransportWorkPax=row[\"Annual average CO₂ emissions per transport work (pax) [g CO₂ / pax · n miles]\"],\n",
    "        Co2EmissionsPerTransportWorkFreight=row[\"Annual average CO₂ emissions per transport work (freight) [g CO₂ / m tonnes · n miles]\"],\n",
    "        distanceTravelledThroughIce=row[\"Through ice [n miles]\"],\n",
    "        totalTimeSpentAtSeaHours=row[\"Total time spent at sea [hours]\"],\n",
    "        totalTimeSpentAtSeaThroughIceHours=row[\"Total time spent at sea through ice [hours]\"],\n",
    "        ladenFuelConsumptionPerDistance=row[\"Fuel consumption per distance on laden voyages [kg / n mile]\"],\n",
    "        ladenFuelConsumptionPerTransportWorkMass=row[\"Fuel consumption per transport work (mass) on laden voyages [g / m tonnes · n miles]\"],\n",
    "        ladenFuelConsumptionPerTransportWorkVolume=row[\"Fuel consumption per transport work (volume) on laden voyages [g / m³ · n miles]\"],\n",
    "        ladenFuelConsumptionPerTransportWorkDwt=row[\"Fuel consumption per transport work (dwt) on laden voyages [g / dwt carried · n miles]\"],\n",
    "        ladenFuelConsumptionPerTransportWorkPax=row[\"Fuel consumption per transport work (pax) on laden voyages [g / pax · n miles]\"],\n",
    "        ladenFuelConsumptionPerTransportWorkFreight=row[\"Fuel consumption per transport work (freight) on laden voyages [g / m tonnes · n miles]\"],\n",
    "        ladenCo2EmissionsPerDistance=row[\"CO₂ emissions per distance on laden voyages [kg CO₂ / n mile]\"],\n",
    "        ladenCo2EmissionsPerTransportWorkMass=row[\"CO₂ emissions per transport work (mass) on laden voyages [g CO₂ / m tonnes · n miles]\"],\n",
    "        ladenCo2EmissionsPerTransportWorkVolume=row[\"CO₂ emissions per transport work (volume) on laden voyages [g CO₂ / m³ · n miles]\"],\n",
    "        ladenCo2EmissionsPerTransportWorkDwt=row[\"CO₂ emissions per transport work (dwt) on laden voyages [g CO₂ / dwt carried · n miles]\"],\n",
    "        ladenCo2EmissionsPerTransportWorkPax=row[\"CO₂ emissions per transport work (pax) on laden voyages [g CO₂ / pax · n miles]\"],\n",
    "        ladenCo2EmissionsPerTransportWorkFreight=row[\"CO₂ emissions per transport work (freight) on laden voyages [g CO₂ / m tonnes · n miles]\"],\n",
    "        voluntaryReportingAdditionalInformation=row[\"Additional information to facilitate the understanding of the reported average operational energy efficiency indicators\"],\n",
    "        voluntaryReportingAverageDensityOfTheCargoTransported=row[\"Average density of the cargo transported [m tonnes / m³]\"]\n",
    ")"
   ]
  },
  {
   "cell_type": "code",
   "execution_count": null,
   "id": "ae8594cd-6746-4aba-9843-6ee109a90ccf",
   "metadata": {},
   "outputs": [],
   "source": [
    "for i in range(200):\n",
    "    try:\n",
    "        data = df.loc[i]\n",
    "        entry = row_to_entry(data)\n",
    "    except:\n",
    "        print(f\"err on {i}\")"
   ]
  },
  {
   "cell_type": "code",
   "execution_count": null,
   "id": "c7c4360a-cb0e-4ed9-bf65-600b785b6e29",
   "metadata": {},
   "outputs": [],
   "source": [
    "row_to_entry(df.loc[105])"
   ]
  },
  {
   "cell_type": "code",
   "execution_count": null,
   "id": "353e8d33-efb8-46b6-bd13-4c2eb7905e87",
   "metadata": {},
   "outputs": [],
   "source": [
    "technical_efficiency = df.loc[2]['Technical efficiency']"
   ]
  },
  {
   "cell_type": "code",
   "execution_count": null,
   "id": "132d1e98-9f86-4f69-a938-c208731cef88",
   "metadata": {},
   "outputs": [],
   "source": [
    "label, string_value = technical_efficiency.split(\" \", 1)"
   ]
  },
  {
   "cell_type": "code",
   "execution_count": null,
   "id": "83b9dc92-f3ac-45c4-9c3e-4558c215b39a",
   "metadata": {},
   "outputs": [],
   "source": [
    "string_value[1:-11]"
   ]
  }
 ],
 "metadata": {
  "kernelspec": {
   "display_name": "Python 3",
   "language": "python",
   "name": "python3"
  },
  "language_info": {
   "codemirror_mode": {
    "name": "ipython",
    "version": 3
   },
   "file_extension": ".py",
   "mimetype": "text/x-python",
   "name": "python",
   "nbconvert_exporter": "python",
   "pygments_lexer": "ipython3",
   "version": "3.8.8"
  }
 },
 "nbformat": 4,
 "nbformat_minor": 5
}
